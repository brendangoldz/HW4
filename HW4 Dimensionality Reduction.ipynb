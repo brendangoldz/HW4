{
 "cells": [
  {
   "cell_type": "code",
   "execution_count": 11,
   "id": "b322253b-fa99-49c6-a5ea-a655082b974c",
   "metadata": {},
   "outputs": [],
   "source": [
    "import numpy as np\n",
    "import matplotlib.pyplot as plt\n",
    "\n",
    "from data_handler import DataHandler, get_xy\n",
    "from calculations import Calculations\n",
    "\n",
    "dh =  DataHandler(\"lfw20.csv\")\n",
    "data = dh.parse_data_no_header()\n",
    "data = dh.shuffle_data(data)\n",
    "data_train, data_test = dh.split_data(data)\n",
    "\n",
    "X, y = get_xy(data_train)\n",
    "X /= 255\n",
    "means, stds = dh.zscore_data(X)\n",
    "X = dh.apply_zscore(means, stds, X)"
   ]
  },
  {
   "cell_type": "code",
   "execution_count": 21,
   "id": "0ae6f51a-a790-46dd-bb69-5e2ab4e47c48",
   "metadata": {},
   "outputs": [
    {
     "data": {
      "text/plain": [
       "(array([ 1.52339549e+03+0.00000000e+00j,  6.08532591e+02+0.00000000e+00j,\n",
       "         4.17990078e+02+0.00000000e+00j, ...,\n",
       "        -5.91394783e-16+2.42236747e-16j, -5.91394783e-16-2.42236747e-16j,\n",
       "        -5.72493153e-16+0.00000000e+00j]),\n",
       " array([[-1.46837906e-03+0.00000000e+00j,  1.03411441e-02+0.00000000e+00j,\n",
       "          1.87508036e-02+0.00000000e+00j, ...,\n",
       "          4.81681346e-04-9.04454896e-05j,  4.81681346e-04+9.04454896e-05j,\n",
       "         -2.67838316e-03+0.00000000e+00j],\n",
       "        [-1.86673455e-03+0.00000000e+00j,  1.04605950e-02+0.00000000e+00j,\n",
       "          1.99756774e-02+0.00000000e+00j, ...,\n",
       "          2.49112705e-05+3.85259829e-06j,  2.49112705e-05-3.85259829e-06j,\n",
       "         -1.36559776e-04+0.00000000e+00j],\n",
       "        [-2.30801124e-03+0.00000000e+00j,  1.10698828e-02+0.00000000e+00j,\n",
       "          2.10726822e-02+0.00000000e+00j, ...,\n",
       "          2.76301805e-05-5.76015968e-05j,  2.76301805e-05+5.76015968e-05j,\n",
       "         -1.96711016e-04+0.00000000e+00j],\n",
       "        ...,\n",
       "        [-1.29291200e-03+0.00000000e+00j, -1.29676488e-02+0.00000000e+00j,\n",
       "         -2.45811407e-03+0.00000000e+00j, ...,\n",
       "          2.12656156e-02-7.22388370e-03j,  2.12656156e-02+7.22388370e-03j,\n",
       "         -9.75009279e-03+0.00000000e+00j],\n",
       "        [-7.26589123e-04+0.00000000e+00j, -1.24809538e-02+0.00000000e+00j,\n",
       "         -2.33976525e-03+0.00000000e+00j, ...,\n",
       "         -1.37694534e-04+2.63998420e-03j, -1.37694534e-04-2.63998420e-03j,\n",
       "          2.21548208e-02+0.00000000e+00j],\n",
       "        [-1.82101138e-04+0.00000000e+00j, -1.18240864e-02+0.00000000e+00j,\n",
       "         -2.10484437e-03+0.00000000e+00j, ...,\n",
       "         -8.68474046e-03-1.55817450e-03j, -8.68474046e-03+1.55817450e-03j,\n",
       "         -1.80320756e-02+0.00000000e+00j]]))"
      ]
     },
     "execution_count": 21,
     "metadata": {},
     "output_type": "execute_result"
    }
   ],
   "source": [
    "# np.mean()\n",
    "# np.cov()\n",
    "# np.linalg.eigvals()\n",
    "mu_x = np.mean(X, axis=0)\n",
    "sig_x = np.cov(X, rowvar=False)\n",
    "ew_cov, ev_cov = np.linalg.eig(sig_x)\n",
    "ew_cov, ev_cov"
   ]
  },
  {
   "cell_type": "code",
   "execution_count": 25,
   "id": "c595c3ce-14ae-44cb-b28a-efc0190e5ff9",
   "metadata": {},
   "outputs": [
    {
     "data": {
      "text/plain": [
       "(827, 5655)"
      ]
     },
     "execution_count": 25,
     "metadata": {},
     "output_type": "execute_result"
    }
   ],
   "source": [
    "ew_cov.shape, ev_cov.shape\n",
    "dotprod_x_ev = np.dot(X, ev_cov)\n",
    "dotprod_x_ev.shape"
   ]
  }
 ],
 "metadata": {
  "kernelspec": {
   "display_name": "Python 3 (ipykernel)",
   "language": "python",
   "name": "python3"
  },
  "language_info": {
   "codemirror_mode": {
    "name": "ipython",
    "version": 3
   },
   "file_extension": ".py",
   "mimetype": "text/x-python",
   "name": "python",
   "nbconvert_exporter": "python",
   "pygments_lexer": "ipython3",
   "version": "3.9.12"
  }
 },
 "nbformat": 4,
 "nbformat_minor": 5
}
