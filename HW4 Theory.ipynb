{
 "cells": [
  {
   "cell_type": "markdown",
   "id": "c7484530-3576-43ee-9bff-53108bb6895c",
   "metadata": {
    "tags": []
   },
   "source": [
    "<h1>Data Setup + ZScore</h1>"
   ]
  },
  {
   "cell_type": "code",
   "execution_count": 1,
   "id": "9d4e44a9-3972-470f-abd2-6e8cd2e7e373",
   "metadata": {},
   "outputs": [
    {
     "data": {
      "text/plain": [
       "(array([[-2,  1],\n",
       "        [-5, -4],\n",
       "        [-3,  1],\n",
       "        [ 0,  3],\n",
       "        [-8, 11],\n",
       "        [-2,  5],\n",
       "        [ 1,  0],\n",
       "        [ 5, -1],\n",
       "        [-1, -3],\n",
       "        [ 6,  1]]),\n",
       " array([1, 1, 1, 1, 1, 2, 2, 2, 2, 2]),\n",
       " (10, 2),\n",
       " (10,),\n",
       " (10,),\n",
       " array([1, 2]))"
      ]
     },
     "execution_count": 1,
     "metadata": {},
     "output_type": "execute_result"
    }
   ],
   "source": [
    "import numpy as np\n",
    "import matplotlib.pyplot as plt\n",
    "from data_handler import zscore_data, apply_zscore\n",
    "\n",
    "X = np.array([\n",
    "    [-2, 1],\n",
    "    [-5, -4],\n",
    "    [-3, 1],\n",
    "    [0, 3],\n",
    "    [-8, 11],\n",
    "    [-2, 5],\n",
    "    [1, 0],\n",
    "    [5, -1],\n",
    "    [-1, -3],\n",
    "    [6, 1]\n",
    "])\n",
    "\n",
    "Y = np.array([1, 1, 1, 1, 1, 2, 2, 2, 2, 2])\n",
    "classes = np.unique(Y)\n",
    "m, N = X.shape\n",
    "class_count = Y.shape\n",
    "X, Y, X.shape, Y.shape, class_count, classes"
   ]
  },
  {
   "cell_type": "code",
   "execution_count": 2,
   "id": "77ac86bf-ddd8-4753-b1bc-7dff61a966b8",
   "metadata": {},
   "outputs": [
    {
     "data": {
      "text/plain": [
       "((10, 2),\n",
       " array([[-0.26015724, -0.09359019],\n",
       "        [-0.96967699, -1.2634676 ],\n",
       "        [-0.49666382, -0.09359019],\n",
       "        [ 0.21285592,  0.37436077],\n",
       "        [-1.67919674,  2.24616461],\n",
       "        [-0.26015724,  0.84231173],\n",
       "        [ 0.44936251, -0.32756567],\n",
       "        [ 1.39538884, -0.56154115],\n",
       "        [-0.02365066, -1.02949211],\n",
       "        [ 1.63189542, -0.09359019]]))"
      ]
     },
     "execution_count": 2,
     "metadata": {},
     "output_type": "execute_result"
    }
   ],
   "source": [
    "mean, std = zscore_data(X)\n",
    "zX = apply_zscore(mean, std, X)\n",
    "zX.shape, zX"
   ]
  },
  {
   "cell_type": "markdown",
   "id": "41964e6a-7c7b-401e-a8d7-bc9daa216b95",
   "metadata": {
    "tags": []
   },
   "source": [
    "<h1>2D Plot of Datapoints</h1>"
   ]
  },
  {
   "cell_type": "code",
   "execution_count": 4,
   "id": "a658a9a1-bc71-4e6e-b48a-fedf727571cd",
   "metadata": {},
   "outputs": [
    {
     "name": "stdout",
     "output_type": "stream",
     "text": [
      "[[-0.26015724 -0.09359019]\n",
      " [-0.96967699 -1.2634676 ]\n",
      " [-0.49666382 -0.09359019]\n",
      " [ 0.21285592  0.37436077]\n",
      " [-1.67919674  2.24616461]\n",
      " [-0.26015724  0.84231173]\n",
      " [ 0.44936251 -0.32756567]\n",
      " [ 1.39538884 -0.56154115]\n",
      " [-0.02365066 -1.02949211]\n",
      " [ 1.63189542 -0.09359019]]\n",
      "(5, 2) [[-0.26015724 -0.09359019]\n",
      " [-0.96967699 -1.2634676 ]\n",
      " [-0.49666382 -0.09359019]\n",
      " [ 0.21285592  0.37436077]\n",
      " [-1.67919674  2.24616461]] [1 1 1 1 1]\n",
      "(5, 2) [[-0.26015724  0.84231173]\n",
      " [ 0.44936251 -0.32756567]\n",
      " [ 1.39538884 -0.56154115]\n",
      " [-0.02365066 -1.02949211]\n",
      " [ 1.63189542 -0.09359019]] [2 2 2 2 2]\n"
     ]
    },
    {
     "data": {
      "image/png": "[encoded data removed]",
      "text/plain": [
       "<Figure size 432x288 with 1 Axes>"
      ]
     },
     "metadata": {
      "needs_background": "light"
     },
     "output_type": "display_data"
    }
   ],
   "source": [
    "plt.title(\"Class 1 vs Class 2 Data\")\n",
    "# X_1 = zX.T[0]\n",
    "# X_2 = zX.T[1]\n",
    "# plt.scatter(X_1, Y[Y==1], marker=\"s\", c=\"red\")\n",
    "# plt.scatter(X_2, Y[Y==2], marker=\"o\", c=\"blue\")\n",
    "# print(X)\n",
    "print(zX)\n",
    "X_1 = zX[Y==1]\n",
    "X_2 = zX[Y==2]\n",
    "print(X_1.shape, X_1, Y[Y==1])\n",
    "print(X_2.shape, X_2, Y[Y==2])\n",
    "\n",
    "plt.plot(X_1[:, 0], X_1[:,1], marker=\"s\", c=\"red\", linestyle = 'None')\n",
    "plt.plot(X_2[:, 0], X_2[:,1], marker=\"o\", c=\"blue\", linestyle = 'None')\n",
    "\n",
    "plt.show()"
   ]
  },
  {
   "cell_type": "markdown",
   "id": "a95d107f-eb87-4ed6-84b1-2f64d126538a",
   "metadata": {
    "tags": []
   },
   "source": [
    "<h1>Principle Component Analysis</h1>"
   ]
  },
  {
   "cell_type": "code",
   "execution_count": 5,
   "id": "f386868f-acb7-44d7-9bec-4687a82a7b7c",
   "metadata": {},
   "outputs": [],
   "source": [
    "def PCA(data):\n",
    "    m, N = data.shape\n",
    "    sigma = np.cov(data.T, ddof=1)\n",
    "    print(sigma)\n",
    "    eigenvectors, eigenvalues = np.linalg.eig(sigma)\n",
    "    print(eigenvectors, eigenvalues)\n",
    "    max_values = get_max_val(eigenvectors, eigenvalues)\n",
    "    print(max_values)\n",
    "    projected_data = np.dot(data, max_values)\n",
    "    return projected_data\n",
    "\n",
    "def get_max_val(vectors, values):\n",
    "    max_vector_indices = np.argmax(vectors)\n",
    "    max_ev = values[:, max_vector_indices]\n",
    "    return max_ev"
   ]
  },
  {
   "cell_type": "code",
   "execution_count": 6,
   "id": "06ec7ac8-f353-44d2-b3e8-668b45f3212f",
   "metadata": {},
   "outputs": [
    {
     "name": "stdout",
     "output_type": "stream",
     "text": [
      "[[ 1.         -0.40826218]\n",
      " [-0.40826218  1.        ]]\n",
      "[1.40826218 0.59173782] [[ 0.70710678  0.70710678]\n",
      " [-0.70710678  0.70710678]]\n",
      "[ 0.70710678 -0.70710678]\n"
     ]
    },
    {
     "data": {
      "text/plain": [
       "(array([-0.11778069,  0.20774133, -0.2850161 , -0.11420117, -2.77564963,\n",
       "        -0.77956329,  0.54937118,  1.38375847,  0.71123731,  1.22010258]),\n",
       " array([ 0.70710678, -0.70710678]))"
      ]
     },
     "execution_count": 6,
     "metadata": {},
     "output_type": "execute_result"
    }
   ],
   "source": [
    "PCA_data = PCA(zX)\n",
    "PCA_data"
   ]
  },
  {
   "cell_type": "code",
   "execution_count": 7,
   "id": "575ce236-4f60-4f69-8b8d-a7ae508b30da",
   "metadata": {},
   "outputs": [
    {
     "data": {
      "image/png": "[encoded data removed]",
      "text/plain": [
       "<Figure size 432x288 with 1 Axes>"
      ]
     },
     "metadata": {
      "needs_background": "light"
     },
     "output_type": "display_data"
    }
   ],
   "source": [
    "zero_y = np.zeros((PCA_data.shape))\n",
    "\n",
    "plt.title(\"PCA'd Data\")\n",
    "plt.scatter(PCA_data[Y==1], zero_y[Y==1], marker=\"s\", c=\"red\")\n",
    "plt.scatter(PCA_data[Y==2], zero_y[Y==2], marker=\"o\", c=\"blue\")\n",
    "plt.show()"
   ]
  },
  {
   "cell_type": "markdown",
   "id": "d504ba6d-f573-4beb-9275-0af6cc06c2b7",
   "metadata": {
    "tags": []
   },
   "source": [
    "<h1>Linear Discriminant Analysis</h1>"
   ]
  },
  {
   "cell_type": "code",
   "execution_count": 8,
   "id": "6800355f-6fbd-4a71-8688-db8692537f16",
   "metadata": {},
   "outputs": [
    {
     "data": {
      "text/plain": [
       "array([[ 0.64911357],\n",
       "       [-0.76069151]])"
      ]
     },
     "execution_count": 8,
     "metadata": {},
     "output_type": "execute_result"
    }
   ],
   "source": [
    "# Lecture Example - LDA\n",
    "C1 = np.array([[1,2], [2,3], [3,3], [4,5], [5,5]])\n",
    "C2 = np.array([[1,0], [2,1], [3,1], [3,2], [5,3],[6,5]])\n",
    "means, stds = zscore_data(np.vstack((C1, C2)))\n",
    "C1 = apply_zscore(means, stds, C1)\n",
    "C2 = apply_zscore(means, stds, C2)\n",
    "mu_1 = np.mean(C1, axis=0)\n",
    "mu_2 = np.mean(C2, axis=0)\n",
    "Sb = np.dot(np.array([(mu_1-mu_2)]).T, np.array([(mu_1 - mu_2)]))\n",
    "\n",
    "w1 = np.dot((C1-mu_1).T, (C1-mu_1))\n",
    "w2 = np.dot((C2-mu_2).T, (C2-mu_2))\n",
    "Sw = np.linalg.pinv(w1 + w2)\n",
    "Sw_ = np.array([[1.10, -1.19],[-1.19, 1.42]])\n",
    "eSb = np.array([[0.04, -0.18],[-0.18, 0.85]])\n",
    "assert(Sw.all() == Sw_.all())\n",
    "assert(eSb.all() == Sb.all())\n",
    "\n",
    "prod_ = np.dot(Sw, Sb)\n",
    "ew_cov, ev_cov = np.linalg.eig(prod_)\n",
    "max_ev_indexes = np.argmax(ew_cov)\n",
    "max_ev = np.array([ev_cov.T[max_ev_indexes]]).T\n",
    "max_ev # Direction of Projection"
   ]
  },
  {
   "cell_type": "code",
   "execution_count": 14,
   "id": "ed07767e-fce7-4043-ad73-67c3adbf7cf5",
   "metadata": {},
   "outputs": [
    {
     "data": {
      "text/plain": [
       "(array([-0.63856777,  0.23397548]),\n",
       " array([ 0.63856777, -0.23397548]),\n",
       " array([[5.01867427, 3.48009605],\n",
       "        [3.48009605, 2.74566485]]),\n",
       " array([[8.06998374, 6.14645297],\n",
       "        [6.14645297, 5.5057763 ]]))"
      ]
     },
     "execution_count": 14,
     "metadata": {},
     "output_type": "execute_result"
    }
   ],
   "source": [
    "X_1 = zX[Y==1]\n",
    "X_2 = zX[Y==2]\n",
    "mu_1 = np.mean(X_1, axis=0)\n",
    "mu_2 = np.mean(X_2, axis=0)\n",
    "w1 = np.dot((C1-mu_1).T, (C1-mu_1))\n",
    "w2 = np.dot((C2-mu_2).T, (C2-mu_2))\n",
    "mu_1, mu_2, w1, w2"
   ]
  },
  {
   "cell_type": "code",
   "execution_count": 21,
   "id": "ac348696-d662-4e8a-86ae-5d351c22421d",
   "metadata": {},
   "outputs": [
    {
     "name": "stdout",
     "output_type": "stream",
     "text": [
      "[[ 0.3387485  -0.1241197 ]\n",
      " [ 0.01667254 -0.00610893]]\n",
      "[3.32639570e-01 6.07153217e-18] [[0.99879099 0.34403943]\n",
      " [0.04915855 0.9389552 ]]\n"
     ]
    },
    {
     "data": {
      "text/plain": [
       "array([[0.99879099],\n",
       "       [0.04915855]])"
      ]
     },
     "execution_count": 21,
     "metadata": {},
     "output_type": "execute_result"
    }
   ],
   "source": [
    "Sb = np.dot(np.array([(mu_1-mu_2)]).T, np.array([(mu_1 - mu_2)]))\n",
    "w1 = (np.dot((X_1-mu_1).T, (X_1-mu_1)))\n",
    "w2 = (np.dot((X_2-mu_2).T, (X_2-mu_2)))\n",
    "\n",
    "Sw = np.linalg.pinv(w1 + w2)\n",
    "prod = np.dot(Sw, Sb)\n",
    "print(prod)\n",
    "ew_cov, ev_cov = np.linalg.eig(prod)\n",
    "print(ew_cov, ev_cov)\n",
    "max_ev_indexes = np.argmax(ew_cov)\n",
    "max_ev = np.array([ev_cov.T[max_ev_indexes]]).T\n",
    "max_ev # Direction of Projection"
   ]
  },
  {
   "cell_type": "code",
   "execution_count": 22,
   "id": "da19da4b-de25-4ebe-8223-b7cb15f2ab71",
   "metadata": {},
   "outputs": [
    {
     "data": {
      "text/plain": [
       "(array([[-0.26444347],\n",
       "        [-1.03061487],\n",
       "        [-0.50066411],\n",
       "        [ 0.23100161],\n",
       "        [-1.56674837],\n",
       "        [-0.21843588],\n",
       "        [ 0.43271657],\n",
       "        [ 1.36609725],\n",
       "        [-0.0742304 ],\n",
       "        [ 1.62532168]]),\n",
       " (10, 1))"
      ]
     },
     "execution_count": 22,
     "metadata": {},
     "output_type": "execute_result"
    }
   ],
   "source": [
    "LDA_data = np.dot(zX, max_ev)\n",
    "LDA_data, LDA_data.shape"
   ]
  },
  {
   "cell_type": "code",
   "execution_count": 23,
   "id": "8879df4d-39ff-471b-904b-ea773e37a671",
   "metadata": {},
   "outputs": [
    {
     "data": {
      "image/png": "[encoded data removed]",
      "text/plain": [
       "<Figure size 432x288 with 1 Axes>"
      ]
     },
     "metadata": {
      "needs_background": "light"
     },
     "output_type": "display_data"
    }
   ],
   "source": [
    "zero_y = np.zeros((LDA_data.shape))\n",
    "\n",
    "plt.title(\"LDA'd Data\")\n",
    "plt.scatter(LDA_data[Y==1], zero_y[Y==1], marker=\"s\", c=\"red\")\n",
    "plt.scatter(LDA_data[Y==2], zero_y[Y==2], marker=\"o\", c=\"blue\")\n",
    "plt.show()"
   ]
  }
 ],
 "metadata": {
  "kernelspec": {
   "display_name": "Python 3 (ipykernel)",
   "language": "python",
   "name": "python3"
  },
  "language_info": {
   "codemirror_mode": {
    "name": "ipython",
    "version": 3
   },
   "file_extension": ".py",
   "mimetype": "text/x-python",
   "name": "python",
   "nbconvert_exporter": "python",
   "pygments_lexer": "ipython3",
   "version": "3.9.12"
  }
 },
 "nbformat": 4,
 "nbformat_minor": 5
}
